{
 "cells": [
  {
   "cell_type": "markdown",
   "metadata": {},
   "source": [
    "hackathon用のデータを作っていきます。<br>\n",
    "潜在変数を予測に組み込むのと、そうではないので誤分類率に差が出るのかを検証します。"
   ]
  },
  {
   "cell_type": "code",
   "execution_count": 70,
   "metadata": {},
   "outputs": [],
   "source": [
    "import numpy as np\n",
    "import pandas as pd\n",
    "import sklearn"
   ]
  },
  {
   "cell_type": "markdown",
   "metadata": {},
   "source": [
    "鉄の動態と類似のデータを二種類作ります。<br>\n",
    "ターゲットデータ：A 二値変数　<br>\n",
    "特徴量<br>\n",
    "観測変数:B,C,D,E連続変数 <br>\n",
    "潜在変数:F ①二値変数 　②連続<br>\n",
    "ターゲットデータはB,E,Fによって生成<br>\n",
    "①潜在変数はC,D,E によって生成\n",
    "②C,D,Eは潜在変数により生成"
   ]
  },
  {
   "cell_type": "markdown",
   "metadata": {},
   "source": [
    "Data1"
   ]
  },
  {
   "cell_type": "code",
   "execution_count": 71,
   "metadata": {},
   "outputs": [],
   "source": [
    "np.random.seed()\n",
    "num_of_data = 500\n",
    "\"観測変数\"\n",
    "C = np.random.normal(1,1,num_of_data )#平均1　標準偏差１\n",
    "D = np.random.normal(2,1,num_of_data )#平均２　標準偏差１\n",
    "E = np.random.normal(0,1,num_of_data )#平均０　標準偏差１\n",
    "B = [np.random.normal(C[i]*2 + 1,0.5,1)[0] for i in range(num_of_data)]#Cから重み[2,1]標準偏差０.25で生成（線形ガウス）"
   ]
  },
  {
   "cell_type": "markdown",
   "metadata": {},
   "source": [
    "潜在変数FはC、D、Eの重みつき和をスレッシュホールドを設けて二値変数に変換。"
   ]
  },
  {
   "cell_type": "code",
   "execution_count": 72,
   "metadata": {},
   "outputs": [],
   "source": [
    "\"潜在変数\"\n",
    "w = {\"C\":[2,1],\"D\":[3,1],\"E\":[1,1]}#重み　keyは重み親ノードに対応　子ノードは常にF\n",
    "weighted_sum_of_features = [w[\"C\"][0]*C[i]+w[\"C\"][1] + w[\"D\"][0]*D[i] + w[\"D\"][1] + w[\"E\"][0]*E[i] + w[\"E\"][1] for i in range(num_of_data )]\n",
    "threshold_F = 14#threshold\n",
    "F = [1 if(i>threshold_F) else 0 for i in weighted_sum_of_features]"
   ]
  },
  {
   "cell_type": "markdown",
   "metadata": {},
   "source": [
    "ターゲット変数AはB,E,Fからルールベースで作成。"
   ]
  },
  {
   "cell_type": "code",
   "execution_count": 73,
   "metadata": {},
   "outputs": [],
   "source": [
    "thresh_B = [2,5]#潜在変数によって閾値が変わる。0の時左1、の時右の値を採用。\n",
    "thresh_E = 2\n",
    "A = [1 if((F[i]==0 and B[i]<thresh_B[0] and E[i]<thresh_E)or(F[i]==1 and B[i]<thresh_B[1] and E[i]<thresh_E)) else 0 for i in range(num_of_data)]"
   ]
  },
  {
   "cell_type": "code",
   "execution_count": 74,
   "metadata": {},
   "outputs": [],
   "source": [
    "data_1 = pd.DataFrame(np.array([A,B,C,D,E,F]).T,columns=[\"A\",\"B\",\"C\",\"D\",\"E\",\"F\"])"
   ]
  },
  {
   "cell_type": "code",
   "execution_count": 75,
   "metadata": {},
   "outputs": [
    {
     "data": {
      "text/html": [
       "<div>\n",
       "<style scoped>\n",
       "    .dataframe tbody tr th:only-of-type {\n",
       "        vertical-align: middle;\n",
       "    }\n",
       "\n",
       "    .dataframe tbody tr th {\n",
       "        vertical-align: top;\n",
       "    }\n",
       "\n",
       "    .dataframe thead th {\n",
       "        text-align: right;\n",
       "    }\n",
       "</style>\n",
       "<table border=\"1\" class=\"dataframe\">\n",
       "  <thead>\n",
       "    <tr style=\"text-align: right;\">\n",
       "      <th></th>\n",
       "      <th>A</th>\n",
       "      <th>B</th>\n",
       "      <th>C</th>\n",
       "      <th>D</th>\n",
       "      <th>E</th>\n",
       "      <th>F</th>\n",
       "    </tr>\n",
       "  </thead>\n",
       "  <tbody>\n",
       "    <tr>\n",
       "      <th>0</th>\n",
       "      <td>0.0</td>\n",
       "      <td>5.338404</td>\n",
       "      <td>1.778694</td>\n",
       "      <td>1.724279</td>\n",
       "      <td>-0.940118</td>\n",
       "      <td>0.0</td>\n",
       "    </tr>\n",
       "    <tr>\n",
       "      <th>1</th>\n",
       "      <td>0.0</td>\n",
       "      <td>6.615995</td>\n",
       "      <td>2.348645</td>\n",
       "      <td>-0.160767</td>\n",
       "      <td>-0.598767</td>\n",
       "      <td>0.0</td>\n",
       "    </tr>\n",
       "    <tr>\n",
       "      <th>2</th>\n",
       "      <td>0.0</td>\n",
       "      <td>3.947649</td>\n",
       "      <td>1.319063</td>\n",
       "      <td>1.184382</td>\n",
       "      <td>0.174877</td>\n",
       "      <td>0.0</td>\n",
       "    </tr>\n",
       "    <tr>\n",
       "      <th>3</th>\n",
       "      <td>1.0</td>\n",
       "      <td>1.810325</td>\n",
       "      <td>0.484590</td>\n",
       "      <td>-1.173037</td>\n",
       "      <td>-0.075372</td>\n",
       "      <td>0.0</td>\n",
       "    </tr>\n",
       "    <tr>\n",
       "      <th>4</th>\n",
       "      <td>0.0</td>\n",
       "      <td>3.699764</td>\n",
       "      <td>1.227015</td>\n",
       "      <td>2.833618</td>\n",
       "      <td>-0.791540</td>\n",
       "      <td>0.0</td>\n",
       "    </tr>\n",
       "  </tbody>\n",
       "</table>\n",
       "</div>"
      ],
      "text/plain": [
       "     A         B         C         D         E    F\n",
       "0  0.0  5.338404  1.778694  1.724279 -0.940118  0.0\n",
       "1  0.0  6.615995  2.348645 -0.160767 -0.598767  0.0\n",
       "2  0.0  3.947649  1.319063  1.184382  0.174877  0.0\n",
       "3  1.0  1.810325  0.484590 -1.173037 -0.075372  0.0\n",
       "4  0.0  3.699764  1.227015  2.833618 -0.791540  0.0"
      ]
     },
     "execution_count": 75,
     "metadata": {},
     "output_type": "execute_result"
    }
   ],
   "source": [
    "data_1.head()"
   ]
  },
  {
   "cell_type": "code",
   "execution_count": 76,
   "metadata": {},
   "outputs": [
    {
     "data": {
      "text/plain": [
       "<matplotlib.axes._subplots.AxesSubplot at 0x7fb8bd5d6c90>"
      ]
     },
     "execution_count": 76,
     "metadata": {},
     "output_type": "execute_result"
    },
    {
     "data": {
      "image/png": "[encoded data removed]",
      "text/plain": [
       "<Figure size 432x288 with 1 Axes>"
      ]
     },
     "metadata": {
      "needs_background": "light"
     },
     "output_type": "display_data"
    }
   ],
   "source": [
    "data_1[\"B\"].hist()"
   ]
  },
  {
   "cell_type": "code",
   "execution_count": 77,
   "metadata": {},
   "outputs": [
    {
     "data": {
      "text/plain": [
       "<matplotlib.axes._subplots.AxesSubplot at 0x7fb8bd655310>"
      ]
     },
     "execution_count": 77,
     "metadata": {},
     "output_type": "execute_result"
    },
    {
     "data": {
      "image/png": "[encoded data removed]",
      "text/plain": [
       "<Figure size 432x288 with 1 Axes>"
      ]
     },
     "metadata": {
      "needs_background": "light"
     },
     "output_type": "display_data"
    }
   ],
   "source": [
    "data_1[\"C\"].hist()"
   ]
  },
  {
   "cell_type": "code",
   "execution_count": 78,
   "metadata": {},
   "outputs": [
    {
     "data": {
      "text/plain": [
       "<matplotlib.axes._subplots.AxesSubplot at 0x7fb8bd754610>"
      ]
     },
     "execution_count": 78,
     "metadata": {},
     "output_type": "execute_result"
    },
    {
     "data": {
      "image/png": "[encoded data removed]",
      "text/plain": [
       "<Figure size 432x288 with 1 Axes>"
      ]
     },
     "metadata": {
      "needs_background": "light"
     },
     "output_type": "display_data"
    }
   ],
   "source": [
    "data_1[\"D\"].hist()"
   ]
  },
  {
   "cell_type": "code",
   "execution_count": 79,
   "metadata": {},
   "outputs": [
    {
     "data": {
      "text/plain": [
       "<matplotlib.axes._subplots.AxesSubplot at 0x7fb8bd6f8d50>"
      ]
     },
     "execution_count": 79,
     "metadata": {},
     "output_type": "execute_result"
    },
    {
     "data": {
      "image/png": "[encoded data removed]",
      "text/plain": [
       "<Figure size 432x288 with 1 Axes>"
      ]
     },
     "metadata": {
      "needs_background": "light"
     },
     "output_type": "display_data"
    }
   ],
   "source": [
    "data_1[\"E\"].hist()"
   ]
  },
  {
   "cell_type": "markdown",
   "metadata": {},
   "source": [
    "Data2"
   ]
  },
  {
   "cell_type": "code",
   "execution_count": 81,
   "metadata": {},
   "outputs": [],
   "source": [
    "np.random.seed()\n",
    "\"潜在変数F\"\n",
    "F = np.random.normal(0,1,num_of_data)#平均0標準偏差１\n",
    "\n",
    "\"潜在変数から観測変数を生成（線形ガウス）\"\n",
    "w = {\"C\":[1,3],\"D\":[3,1],\"E\":[2,1]}#重み　keyは子ノードに対応親ノードは常にF\n",
    "C =  [np.random.normal(F[i]*w[\"C\"][0] + w[\"C\"][1],0.5,1)[0] for i in range(num_of_data)]#標準偏差0.5\n",
    "D = [np.random.normal(F[i]*w[\"D\"][0] + w[\"D\"][1],0.5,1)[0] for i in range(num_of_data)]#標準偏差0.5\n",
    "E = [np.random.normal(F[i]*w[\"E\"][0] + w[\"E\"][1],0.5,1)[0] for i in range(num_of_data)]#標準偏差0.5\n",
    "\"BはCから生成（線形ガウス）　本質的ではないので重みは変えない前提\"\n",
    "B = [np.random.normal(C[i]*2 + 1,0.5,1)[0] for i in range(num_of_data)]\n"
   ]
  },
  {
   "cell_type": "code",
   "execution_count": null,
   "metadata": {},
   "outputs": [],
   "source": []
  }
 ],
 "metadata": {
  "kernelspec": {
   "display_name": "Python 3",
   "language": "python",
   "name": "python3"
  },
  "language_info": {
   "codemirror_mode": {
    "name": "ipython",
    "version": 3
   },
   "file_extension": ".py",
   "mimetype": "text/x-python",
   "name": "python",
   "nbconvert_exporter": "python",
   "pygments_lexer": "ipython3",
   "version": "3.7.6"
  }
 },
 "nbformat": 4,
 "nbformat_minor": 4
}
